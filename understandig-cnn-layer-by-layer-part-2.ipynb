{
 "cells": [
  {
   "cell_type": "code",
   "execution_count": 1,
   "id": "957826d2",
   "metadata": {
    "_cell_guid": "b1076dfc-b9ad-4769-8c92-a6c4dae69d19",
    "_uuid": "8f2839f25d086af736a60e9eeb907d3b93b6e0e5",
    "execution": {
     "iopub.execute_input": "2023-03-01T16:18:25.824243Z",
     "iopub.status.busy": "2023-03-01T16:18:25.823665Z",
     "iopub.status.idle": "2023-03-01T16:18:34.962647Z",
     "shell.execute_reply": "2023-03-01T16:18:34.961236Z"
    },
    "papermill": {
     "duration": 9.148608,
     "end_time": "2023-03-01T16:18:34.965391",
     "exception": false,
     "start_time": "2023-03-01T16:18:25.816783",
     "status": "completed"
    },
    "tags": []
   },
   "outputs": [
    {
     "name": "stdout",
     "output_type": "stream",
     "text": [
      "/kaggle/input/refmodel/understand_cnn/saved_model.pb\n",
      "/kaggle/input/refmodel/understand_cnn/keras_metadata.pb\n",
      "/kaggle/input/refmodel/understand_cnn/variables/variables.index\n",
      "/kaggle/input/refmodel/understand_cnn/variables/variables.data-00000-of-00001\n",
      "/kaggle/input/digit-recognizer/sample_submission.csv\n",
      "/kaggle/input/digit-recognizer/train.csv\n",
      "/kaggle/input/digit-recognizer/test.csv\n"
     ]
    }
   ],
   "source": [
    "# This Python 3 environment comes with many helpful analytics libraries installed\n",
    "# It is defined by the kaggle/python Docker image: https://github.com/kaggle/docker-python\n",
    "# For example, here's several helpful packages to load\n",
    "\n",
    "import numpy as np # linear algebra\n",
    "import pandas as pd # data processing, CSV file I/O (e.g. pd.read_csv)\n",
    "import tensorflow as tf\n",
    "import tensorflow.keras as krs\n",
    "import matplotlib.pyplot as plt\n",
    "import matplotlib.gridspec as gridspec\n",
    "\n",
    "# Input data files are available in the read-only \"../input/\" directory\n",
    "# For example, running this (by clicking run or pressing Shift+Enter) will list all files under the input directory\n",
    "\n",
    "import os\n",
    "for dirname, _, filenames in os.walk('/kaggle/input'):\n",
    "    for filename in filenames:\n",
    "        print(os.path.join(dirname, filename))\n",
    "\n",
    "# You can write up to 20GB to the current directory (/kaggle/working/) that gets preserved as output when you create a version using \"Save & Run All\" \n",
    "# You can also write temporary files to /kaggle/temp/, but they won't be saved outside of the current session"
   ]
  },
  {
   "cell_type": "code",
   "execution_count": 2,
   "id": "9d7dcb27",
   "metadata": {
    "execution": {
     "iopub.execute_input": "2023-03-01T16:18:34.973372Z",
     "iopub.status.busy": "2023-03-01T16:18:34.972115Z",
     "iopub.status.idle": "2023-03-01T16:18:36.283570Z",
     "shell.execute_reply": "2023-03-01T16:18:36.282480Z"
    },
    "papermill": {
     "duration": 1.318114,
     "end_time": "2023-03-01T16:18:36.286410",
     "exception": false,
     "start_time": "2023-03-01T16:18:34.968296",
     "status": "completed"
    },
    "tags": []
   },
   "outputs": [],
   "source": [
    "ref_model=krs.models.load_model('/kaggle/input/refmodel/understand_cnn')\n",
    "#ref_model.summary()"
   ]
  },
  {
   "cell_type": "code",
   "execution_count": 3,
   "id": "92102b4f",
   "metadata": {
    "execution": {
     "iopub.execute_input": "2023-03-01T16:18:36.294131Z",
     "iopub.status.busy": "2023-03-01T16:18:36.293141Z",
     "iopub.status.idle": "2023-03-01T16:18:36.338225Z",
     "shell.execute_reply": "2023-03-01T16:18:36.336312Z"
    },
    "papermill": {
     "duration": 0.051672,
     "end_time": "2023-03-01T16:18:36.340949",
     "exception": false,
     "start_time": "2023-03-01T16:18:36.289277",
     "status": "completed"
    },
    "tags": []
   },
   "outputs": [
    {
     "name": "stdout",
     "output_type": "stream",
     "text": [
      "Model: \"model\"\n",
      "_________________________________________________________________\n",
      " Layer (type)                Output Shape              Param #   \n",
      "=================================================================\n",
      " input_1 (InputLayer)        [(None, 1, 1, 128)]       0         \n",
      "                                                                 \n",
      " dropout_2 (Dropout)         (None, 1, 1, 128)         0         \n",
      "                                                                 \n",
      " flatten (Flatten)           (None, 128)               0         \n",
      "                                                                 \n",
      " dense (Dense)               (None, 256)               33024     \n",
      "                                                                 \n",
      " dropout_3 (Dropout)         (None, 256)               0         \n",
      "                                                                 \n",
      " dense_1 (Dense)             (None, 10)                2570      \n",
      "                                                                 \n",
      "=================================================================\n",
      "Total params: 35,594\n",
      "Trainable params: 35,594\n",
      "Non-trainable params: 0\n",
      "_________________________________________________________________\n"
     ]
    }
   ],
   "source": [
    "classifier = krs.models.Model(inputs=ref_model.get_layer('dropout_2').input, outputs=ref_model.output)\n",
    "classifier.summary()"
   ]
  },
  {
   "cell_type": "code",
   "execution_count": 4,
   "id": "1f69b57d",
   "metadata": {
    "execution": {
     "iopub.execute_input": "2023-03-01T16:18:36.350702Z",
     "iopub.status.busy": "2023-03-01T16:18:36.350078Z",
     "iopub.status.idle": "2023-03-01T16:18:39.269951Z",
     "shell.execute_reply": "2023-03-01T16:18:39.268390Z"
    },
    "papermill": {
     "duration": 2.927905,
     "end_time": "2023-03-01T16:18:39.272832",
     "exception": false,
     "start_time": "2023-03-01T16:18:36.344927",
     "status": "completed"
    },
    "tags": []
   },
   "outputs": [],
   "source": [
    "def output_at_index_0(input_tensor, max_idx):\n",
    "    target = tf.Variable(tf.zeros(10))\n",
    "    target=target[max_idx].assign(1)\n",
    "    label = classifier(input_tensor)\n",
    "    loss = loss = tf.keras.losses.mean_squared_error(target, label)\n",
    "    return loss\n",
    "\n",
    "activation_r = tf.Variable(tf.zeros((1, 1, 1, 128)))\n",
    "optimizer = tf.optimizers.Adam(learning_rate=0.1)\n",
    "for i in range(100):\n",
    "    with tf.GradientTape() as tape:\n",
    "        output = output_at_index_0(activation_r, 3)\n",
    "    gradients = tape.gradient(output, activation_r)\n",
    "    optimizer.apply_gradients([(gradients, activation_r)])\n",
    "\n",
    "activation_g = tf.Variable(tf.zeros((1, 1, 1, 128)))\n",
    "optimizer = tf.optimizers.Adam(learning_rate=0.1)\n",
    "for i in range(100):\n",
    "    with tf.GradientTape() as tape:\n",
    "        output = output_at_index_0(activation_g, 5)\n",
    "    gradients = tape.gradient(output, activation_g)\n",
    "    optimizer.apply_gradients([(gradients, activation_g)])\n",
    "\n",
    "activation_b = tf.Variable(tf.zeros((1, 1, 1, 128)))\n",
    "optimizer = tf.optimizers.Adam(learning_rate=0.1)\n",
    "for i in range(100):\n",
    "    with tf.GradientTape() as tape:\n",
    "        output = output_at_index_0(activation_b, 1)\n",
    "    gradients = tape.gradient(output, activation_b)\n",
    "    optimizer.apply_gradients([(gradients, activation_b)])\n"
   ]
  },
  {
   "cell_type": "code",
   "execution_count": 5,
   "id": "e1c4bcb5",
   "metadata": {
    "execution": {
     "iopub.execute_input": "2023-03-01T16:18:39.282865Z",
     "iopub.status.busy": "2023-03-01T16:18:39.282447Z",
     "iopub.status.idle": "2023-03-01T16:18:39.505816Z",
     "shell.execute_reply": "2023-03-01T16:18:39.504510Z"
    },
    "papermill": {
     "duration": 0.232341,
     "end_time": "2023-03-01T16:18:39.509330",
     "exception": false,
     "start_time": "2023-03-01T16:18:39.276989",
     "status": "completed"
    },
    "tags": []
   },
   "outputs": [
    {
     "name": "stdout",
     "output_type": "stream",
     "text": [
      "(4, 32, 3)\n",
      "-1.4033216\n",
      "1.4246267\n"
     ]
    },
    {
     "data": {
      "text/plain": [
       "(-0.5, 31.5, 3.5, -0.5)"
      ]
     },
     "execution_count": 5,
     "metadata": {},
     "output_type": "execute_result"
    },
    {
     "data": {
      "image/png": "[encoded data removed]",
      "text/plain": [
       "<Figure size 2000x6000 with 1 Axes>"
      ]
     },
     "metadata": {},
     "output_type": "display_data"
    }
   ],
   "source": [
    "img=np.stack([activation_r.numpy()[0,0,0,:].reshape(4, 32),\n",
    "              activation_g.numpy()[0,0,0,:].reshape(4, 32),\n",
    "              activation_b.numpy()[0,0,0,:].reshape(4, 32)], axis=2)\n",
    "print(img.shape)\n",
    "img_min=np.amin(img)\n",
    "img_max=np.amax(img)\n",
    "print(img_min)\n",
    "print(img_max)\n",
    "\n",
    "plt.figure(figsize=(20, 60))\n",
    "plt.imshow(img, vmin=img_min, vmax=img_max)\n",
    "plt.axis(\"off\")"
   ]
  },
  {
   "cell_type": "code",
   "execution_count": 6,
   "id": "c5ecfac3",
   "metadata": {
    "execution": {
     "iopub.execute_input": "2023-03-01T16:18:39.525524Z",
     "iopub.status.busy": "2023-03-01T16:18:39.524900Z",
     "iopub.status.idle": "2023-03-01T16:18:39.798001Z",
     "shell.execute_reply": "2023-03-01T16:18:39.796590Z"
    },
    "papermill": {
     "duration": 0.284274,
     "end_time": "2023-03-01T16:18:39.800612",
     "exception": false,
     "start_time": "2023-03-01T16:18:39.516338",
     "status": "completed"
    },
    "tags": []
   },
   "outputs": [
    {
     "name": "stdout",
     "output_type": "stream",
     "text": [
      "(1, 1, 1, 128)\n",
      "1/1 [==============================] - 0s 188ms/step\n",
      "[[4.2387205e-06 2.9287571e-06 2.6298856e-05 9.9937940e-01 1.0079852e-06\n",
      "  3.2113295e-04 1.4320403e-06 8.2764782e-06 2.1807227e-04 3.7183872e-05]]\n"
     ]
    }
   ],
   "source": [
    "x_ver=activation_r.numpy()\n",
    "x_ver=x_ver.reshape(1,1,1,128)\n",
    "print(x_ver.shape)\n",
    "y_ver = classifier.predict(x_ver)\n",
    "print(y_ver)"
   ]
  }
 ],
 "metadata": {
  "kernelspec": {
   "display_name": "Python 3",
   "language": "python",
   "name": "python3"
  },
  "language_info": {
   "codemirror_mode": {
    "name": "ipython",
    "version": 3
   },
   "file_extension": ".py",
   "mimetype": "text/x-python",
   "name": "python",
   "nbconvert_exporter": "python",
   "pygments_lexer": "ipython3",
   "version": "3.7.12"
  },
  "papermill": {
   "default_parameters": {},
   "duration": 27.720274,
   "end_time": "2023-03-01T16:18:43.216636",
   "environment_variables": {},
   "exception": null,
   "input_path": "__notebook__.ipynb",
   "output_path": "__notebook__.ipynb",
   "parameters": {},
   "start_time": "2023-03-01T16:18:15.496362",
   "version": "2.4.0"
  }
 },
 "nbformat": 4,
 "nbformat_minor": 5
}
