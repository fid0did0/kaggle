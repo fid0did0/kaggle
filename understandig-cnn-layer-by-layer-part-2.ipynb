{
 "cells": [
  {
   "cell_type": "code",
   "execution_count": 1,
   "id": "844b339c",
   "metadata": {
    "_cell_guid": "b1076dfc-b9ad-4769-8c92-a6c4dae69d19",
    "_uuid": "8f2839f25d086af736a60e9eeb907d3b93b6e0e5",
    "execution": {
     "iopub.execute_input": "2023-02-28T17:49:43.413193Z",
     "iopub.status.busy": "2023-02-28T17:49:43.412768Z",
     "iopub.status.idle": "2023-02-28T17:49:53.779906Z",
     "shell.execute_reply": "2023-02-28T17:49:53.778617Z"
    },
    "papermill": {
     "duration": 10.379379,
     "end_time": "2023-02-28T17:49:53.784466",
     "exception": false,
     "start_time": "2023-02-28T17:49:43.405087",
     "status": "completed"
    },
    "tags": []
   },
   "outputs": [
    {
     "name": "stdout",
     "output_type": "stream",
     "text": [
      "/kaggle/input/digit-recognizer/sample_submission.csv\n",
      "/kaggle/input/digit-recognizer/train.csv\n",
      "/kaggle/input/digit-recognizer/test.csv\n",
      "/kaggle/input/refmodel/understand_cnn/saved_model.pb\n",
      "/kaggle/input/refmodel/understand_cnn/keras_metadata.pb\n",
      "/kaggle/input/refmodel/understand_cnn/variables/variables.index\n",
      "/kaggle/input/refmodel/understand_cnn/variables/variables.data-00000-of-00001\n"
     ]
    }
   ],
   "source": [
    "# This Python 3 environment comes with many helpful analytics libraries installed\n",
    "# It is defined by the kaggle/python Docker image: https://github.com/kaggle/docker-python\n",
    "# For example, here's several helpful packages to load\n",
    "\n",
    "import numpy as np # linear algebra\n",
    "import pandas as pd # data processing, CSV file I/O (e.g. pd.read_csv)\n",
    "import tensorflow as tf\n",
    "import tensorflow.keras as krs\n",
    "import matplotlib.pyplot as plt\n",
    "import matplotlib.gridspec as gridspec\n",
    "\n",
    "# Input data files are available in the read-only \"../input/\" directory\n",
    "# For example, running this (by clicking run or pressing Shift+Enter) will list all files under the input directory\n",
    "\n",
    "import os\n",
    "for dirname, _, filenames in os.walk('/kaggle/input'):\n",
    "    for filename in filenames:\n",
    "        print(os.path.join(dirname, filename))\n",
    "\n",
    "# You can write up to 20GB to the current directory (/kaggle/working/) that gets preserved as output when you create a version using \"Save & Run All\" \n",
    "# You can also write temporary files to /kaggle/temp/, but they won't be saved outside of the current session"
   ]
  },
  {
   "cell_type": "code",
   "execution_count": 2,
   "id": "bb123e5d",
   "metadata": {
    "execution": {
     "iopub.execute_input": "2023-02-28T17:49:53.795760Z",
     "iopub.status.busy": "2023-02-28T17:49:53.794526Z",
     "iopub.status.idle": "2023-02-28T17:49:56.419558Z",
     "shell.execute_reply": "2023-02-28T17:49:56.418253Z"
    },
    "papermill": {
     "duration": 2.633872,
     "end_time": "2023-02-28T17:49:56.422673",
     "exception": false,
     "start_time": "2023-02-28T17:49:53.788801",
     "status": "completed"
    },
    "tags": []
   },
   "outputs": [],
   "source": [
    "test = pd.read_csv(\"/kaggle/input/digit-recognizer/test.csv\")\n",
    "nptest = test.to_numpy()\n",
    "nptest = nptest.astype('float')\n",
    "nptest /= 255.0\n",
    "nptest = nptest.reshape(-1, 28, 28, 1)\n",
    "\n",
    "#plt.imshow(nptest[1,:,:,0])"
   ]
  },
  {
   "cell_type": "code",
   "execution_count": 3,
   "id": "46605d17",
   "metadata": {
    "execution": {
     "iopub.execute_input": "2023-02-28T17:49:56.432588Z",
     "iopub.status.busy": "2023-02-28T17:49:56.432156Z",
     "iopub.status.idle": "2023-02-28T17:49:57.927286Z",
     "shell.execute_reply": "2023-02-28T17:49:57.924806Z"
    },
    "papermill": {
     "duration": 1.507943,
     "end_time": "2023-02-28T17:49:57.935043",
     "exception": false,
     "start_time": "2023-02-28T17:49:56.427100",
     "status": "completed"
    },
    "tags": []
   },
   "outputs": [
    {
     "name": "stdout",
     "output_type": "stream",
     "text": [
      "Model: \"sequential\"\n",
      "_________________________________________________________________\n",
      " Layer (type)                Output Shape              Param #   \n",
      "=================================================================\n",
      " conv2d (Conv2D)             (None, 26, 26, 32)        320       \n",
      "                                                                 \n",
      " conv2d_1 (Conv2D)           (None, 24, 24, 32)        9248      \n",
      "                                                                 \n",
      " max_pooling2d (MaxPooling2D  (None, 12, 12, 32)       0         \n",
      " )                                                               \n",
      "                                                                 \n",
      " dropout (Dropout)           (None, 12, 12, 32)        0         \n",
      "                                                                 \n",
      " conv2d_2 (Conv2D)           (None, 12, 12, 64)        18496     \n",
      "                                                                 \n",
      " conv2d_3 (Conv2D)           (None, 10, 10, 64)        36928     \n",
      "                                                                 \n",
      " max_pooling2d_1 (MaxPooling  (None, 5, 5, 64)         0         \n",
      " 2D)                                                             \n",
      "                                                                 \n",
      " dropout_1 (Dropout)         (None, 5, 5, 64)          0         \n",
      "                                                                 \n",
      " conv2d_4 (Conv2D)           (None, 5, 5, 128)         73856     \n",
      "                                                                 \n",
      " conv2d_5 (Conv2D)           (None, 3, 3, 128)         147584    \n",
      "                                                                 \n",
      " max_pooling2d_2 (MaxPooling  (None, 1, 1, 128)        0         \n",
      " 2D)                                                             \n",
      "                                                                 \n",
      " dropout_2 (Dropout)         (None, 1, 1, 128)         0         \n",
      "                                                                 \n",
      " flatten (Flatten)           (None, 128)               0         \n",
      "                                                                 \n",
      " dense (Dense)               (None, 256)               33024     \n",
      "                                                                 \n",
      " dropout_3 (Dropout)         (None, 256)               0         \n",
      "                                                                 \n",
      " dense_1 (Dense)             (None, 10)                2570      \n",
      "                                                                 \n",
      "=================================================================\n",
      "Total params: 322,026\n",
      "Trainable params: 322,026\n",
      "Non-trainable params: 0\n",
      "_________________________________________________________________\n"
     ]
    }
   ],
   "source": [
    "ref_model=krs.models.load_model('/kaggle/input/refmodel/understand_cnn')\n",
    "ref_model.summary()\n"
   ]
  },
  {
   "cell_type": "code",
   "execution_count": 4,
   "id": "8a97edc4",
   "metadata": {
    "execution": {
     "iopub.execute_input": "2023-02-28T17:49:57.949584Z",
     "iopub.status.busy": "2023-02-28T17:49:57.949136Z",
     "iopub.status.idle": "2023-02-28T17:49:58.794601Z",
     "shell.execute_reply": "2023-02-28T17:49:58.793033Z"
    },
    "papermill": {
     "duration": 0.857517,
     "end_time": "2023-02-28T17:49:58.798822",
     "exception": false,
     "start_time": "2023-02-28T17:49:57.941305",
     "status": "completed"
    },
    "tags": []
   },
   "outputs": [
    {
     "name": "stdout",
     "output_type": "stream",
     "text": [
      "1/1 [==============================] - 0s 403ms/step\n"
     ]
    },
    {
     "data": {
      "image/png": "[encoded data removed]",
      "text/plain": [
       "<Figure size 800x800 with 8 Axes>"
      ]
     },
     "metadata": {},
     "output_type": "display_data"
    }
   ],
   "source": [
    "test_pred_cat=ref_model.predict(nptest[0:8,:,:,0])\n",
    "test_pred_label=test_pred_cat.argmax(axis=1)\n",
    "\n",
    "fig = plt.figure(figsize = (8, 8))\n",
    "for k in range(0,8):\n",
    "    ax = plt.subplot(4, 4, k+1)\n",
    "    plt.imshow(nptest[k,:,:,0], cmap='Greys')\n",
    "    plt.title(\"label: {}\".format(test_pred_label[k]))\n",
    "    ax.axis(\"off\")"
   ]
  },
  {
   "cell_type": "code",
   "execution_count": 5,
   "id": "4a7b234a",
   "metadata": {
    "execution": {
     "iopub.execute_input": "2023-02-28T17:49:58.819535Z",
     "iopub.status.busy": "2023-02-28T17:49:58.818701Z",
     "iopub.status.idle": "2023-02-28T17:49:58.867124Z",
     "shell.execute_reply": "2023-02-28T17:49:58.865735Z"
    },
    "papermill": {
     "duration": 0.059902,
     "end_time": "2023-02-28T17:49:58.870291",
     "exception": false,
     "start_time": "2023-02-28T17:49:58.810389",
     "status": "completed"
    },
    "tags": []
   },
   "outputs": [
    {
     "name": "stdout",
     "output_type": "stream",
     "text": [
      "Model: \"model\"\n",
      "_________________________________________________________________\n",
      " Layer (type)                Output Shape              Param #   \n",
      "=================================================================\n",
      " input_1 (InputLayer)        [(None, 1, 1, 128)]       0         \n",
      "                                                                 \n",
      " dropout_2 (Dropout)         (None, 1, 1, 128)         0         \n",
      "                                                                 \n",
      " flatten (Flatten)           (None, 128)               0         \n",
      "                                                                 \n",
      " dense (Dense)               (None, 256)               33024     \n",
      "                                                                 \n",
      " dropout_3 (Dropout)         (None, 256)               0         \n",
      "                                                                 \n",
      " dense_1 (Dense)             (None, 10)                2570      \n",
      "                                                                 \n",
      "=================================================================\n",
      "Total params: 35,594\n",
      "Trainable params: 35,594\n",
      "Non-trainable params: 0\n",
      "_________________________________________________________________\n"
     ]
    }
   ],
   "source": [
    "classifier = krs.models.Model(inputs=ref_model.get_layer('dropout_2').input, outputs=ref_model.output)\n",
    "classifier.summary()"
   ]
  },
  {
   "cell_type": "code",
   "execution_count": 6,
   "id": "06008965",
   "metadata": {
    "execution": {
     "iopub.execute_input": "2023-02-28T17:49:58.888380Z",
     "iopub.status.busy": "2023-02-28T17:49:58.887989Z",
     "iopub.status.idle": "2023-02-28T17:50:02.169352Z",
     "shell.execute_reply": "2023-02-28T17:50:02.167656Z"
    },
    "papermill": {
     "duration": 3.294435,
     "end_time": "2023-02-28T17:50:02.172626",
     "exception": false,
     "start_time": "2023-02-28T17:49:58.878191",
     "status": "completed"
    },
    "tags": []
   },
   "outputs": [],
   "source": [
    "def output_at_index_0(input_tensor, max_idx):\n",
    "    target = tf.Variable(tf.zeros(10))\n",
    "    target=target[max_idx].assign(1)\n",
    "    label = classifier(input_tensor)\n",
    "    loss = loss = tf.keras.losses.mean_squared_error(target, label)\n",
    "    return loss\n",
    "\n",
    "activation_r = tf.Variable(tf.zeros((1, 1, 1, 128)))\n",
    "optimizer = tf.optimizers.Adam(learning_rate=0.1)\n",
    "for i in range(100):\n",
    "    with tf.GradientTape() as tape:\n",
    "        output = output_at_index_0(activation_r, 3)\n",
    "    gradients = tape.gradient(output, activation_r)\n",
    "    optimizer.apply_gradients([(gradients, activation_r)])\n",
    "\n",
    "activation_g = tf.Variable(tf.zeros((1, 1, 1, 128)))\n",
    "optimizer = tf.optimizers.Adam(learning_rate=0.1)\n",
    "for i in range(100):\n",
    "    with tf.GradientTape() as tape:\n",
    "        output = output_at_index_0(activation_g, 5)\n",
    "    gradients = tape.gradient(output, activation_g)\n",
    "    optimizer.apply_gradients([(gradients, activation_g)])\n",
    "\n",
    "activation_b = tf.Variable(tf.zeros((1, 1, 1, 128)))\n",
    "optimizer = tf.optimizers.Adam(learning_rate=0.1)\n",
    "for i in range(100):\n",
    "    with tf.GradientTape() as tape:\n",
    "        output = output_at_index_0(activation_b, 1)\n",
    "    gradients = tape.gradient(output, activation_b)\n",
    "    optimizer.apply_gradients([(gradients, activation_b)])\n",
    "    \n",
    "    \n",
    "#print(input_var.value)\n"
   ]
  },
  {
   "cell_type": "code",
   "execution_count": 7,
   "id": "f57d7fe3",
   "metadata": {
    "execution": {
     "iopub.execute_input": "2023-02-28T17:50:02.191194Z",
     "iopub.status.busy": "2023-02-28T17:50:02.190684Z",
     "iopub.status.idle": "2023-02-28T17:50:02.400888Z",
     "shell.execute_reply": "2023-02-28T17:50:02.399258Z"
    },
    "papermill": {
     "duration": 0.224334,
     "end_time": "2023-02-28T17:50:02.405115",
     "exception": false,
     "start_time": "2023-02-28T17:50:02.180781",
     "status": "completed"
    },
    "tags": []
   },
   "outputs": [
    {
     "name": "stdout",
     "output_type": "stream",
     "text": [
      "(4, 32, 3)\n",
      "-1.4033216\n",
      "1.4246267\n"
     ]
    },
    {
     "data": {
      "text/plain": [
       "(-0.5, 31.5, 3.5, -0.5)"
      ]
     },
     "execution_count": 7,
     "metadata": {},
     "output_type": "execute_result"
    },
    {
     "data": {
      "image/png": "[encoded data removed]",
      "text/plain": [
       "<Figure size 2000x6000 with 1 Axes>"
      ]
     },
     "metadata": {},
     "output_type": "display_data"
    }
   ],
   "source": [
    "#img=np.stack([activation_r.numpy().reshape(), activation_g.numpy()[0,0,0,:], activation_b.numpy()[0,0,0,:]], axis=1)\n",
    "img=np.stack([activation_r.numpy()[0,0,0,:].reshape(4, 32),\n",
    "              activation_g.numpy()[0,0,0,:].reshape(4, 32),\n",
    "              activation_b.numpy()[0,0,0,:].reshape(4, 32)], axis=2)\n",
    "print(img.shape)\n",
    "img_min=np.amin(img)\n",
    "img_max=np.amax(img)\n",
    "print(img_min)\n",
    "print(img_max)\n",
    "\n",
    "plt.figure(figsize=(20, 60))\n",
    "plt.imshow(img, vmin=img_min, vmax=img_max)\n",
    "plt.axis(\"off\")"
   ]
  },
  {
   "cell_type": "code",
   "execution_count": 8,
   "id": "8bd04f4c",
   "metadata": {
    "execution": {
     "iopub.execute_input": "2023-02-28T17:50:02.437991Z",
     "iopub.status.busy": "2023-02-28T17:50:02.437266Z",
     "iopub.status.idle": "2023-02-28T17:50:02.578939Z",
     "shell.execute_reply": "2023-02-28T17:50:02.577326Z"
    },
    "papermill": {
     "duration": 0.162426,
     "end_time": "2023-02-28T17:50:02.582063",
     "exception": false,
     "start_time": "2023-02-28T17:50:02.419637",
     "status": "completed"
    },
    "tags": []
   },
   "outputs": [
    {
     "name": "stdout",
     "output_type": "stream",
     "text": [
      "(1, 1, 1, 128)\n",
      "1/1 [==============================] - 0s 65ms/step\n",
      "[[4.2387205e-06 2.9287571e-06 2.6298856e-05 9.9937940e-01 1.0079852e-06\n",
      "  3.2113295e-04 1.4320403e-06 8.2764782e-06 2.1807227e-04 3.7183872e-05]]\n"
     ]
    }
   ],
   "source": [
    "x_ver=activation_r.numpy()\n",
    "x_ver=x_ver.reshape(1,1,1,128)\n",
    "print(x_ver.shape)\n",
    "y_ver = classifier.predict(x_ver)\n",
    "print(y_ver)"
   ]
  },
  {
   "cell_type": "code",
   "execution_count": 9,
   "id": "29b4571f",
   "metadata": {
    "execution": {
     "iopub.execute_input": "2023-02-28T17:50:02.602048Z",
     "iopub.status.busy": "2023-02-28T17:50:02.601581Z",
     "iopub.status.idle": "2023-02-28T17:50:05.412734Z",
     "shell.execute_reply": "2023-02-28T17:50:05.411326Z"
    },
    "papermill": {
     "duration": 2.825384,
     "end_time": "2023-02-28T17:50:05.416231",
     "exception": false,
     "start_time": "2023-02-28T17:50:02.590847",
     "status": "completed"
    },
    "tags": []
   },
   "outputs": [],
   "source": [
    "def input_from_index(input_tensor, max_idx):\n",
    "    target = tf.Variable(tf.zeros(10))\n",
    "    target=target[max_idx].assign(1)\n",
    "    label = ref_model(input_tensor)\n",
    "    loss = loss = tf.keras.losses.mean_squared_error(target, label)\n",
    "    return loss\n",
    "\n",
    "activation_pict = tf.Variable(tf.zeros((1, 28, 28, 1)))\n",
    "optimizer = tf.optimizers.Adam(learning_rate=0.1)\n",
    "for i in range(100):\n",
    "    with tf.GradientTape() as tape:\n",
    "        output = input_from_index(activation_pict, 1)\n",
    "    gradients = tape.gradient(output, activation_pict)\n",
    "    optimizer.apply_gradients([(gradients, activation_pict)])\n"
   ]
  },
  {
   "cell_type": "code",
   "execution_count": 10,
   "id": "92186355",
   "metadata": {
    "execution": {
     "iopub.execute_input": "2023-02-28T17:50:05.437038Z",
     "iopub.status.busy": "2023-02-28T17:50:05.436614Z",
     "iopub.status.idle": "2023-02-28T17:50:05.532180Z",
     "shell.execute_reply": "2023-02-28T17:50:05.530474Z"
    },
    "papermill": {
     "duration": 0.11095,
     "end_time": "2023-02-28T17:50:05.536297",
     "exception": false,
     "start_time": "2023-02-28T17:50:05.425347",
     "status": "completed"
    },
    "tags": []
   },
   "outputs": [
    {
     "data": {
      "text/plain": [
       "(-0.5, 27.5, 27.5, -0.5)"
      ]
     },
     "execution_count": 10,
     "metadata": {},
     "output_type": "execute_result"
    },
    {
     "data": {
      "image/png": "[encoded data removed]",
      "text/plain": [
       "<Figure size 640x480 with 1 Axes>"
      ]
     },
     "metadata": {},
     "output_type": "display_data"
    }
   ],
   "source": [
    "#plt.figure(figsize=(10, 10))\n",
    "plt.imshow(activation_pict[0,:,:,0], cmap='gray')\n",
    "plt.axis(\"off\")"
   ]
  }
 ],
 "metadata": {
  "kernelspec": {
   "display_name": "Python 3",
   "language": "python",
   "name": "python3"
  },
  "language_info": {
   "codemirror_mode": {
    "name": "ipython",
    "version": 3
   },
   "file_extension": ".py",
   "mimetype": "text/x-python",
   "name": "python",
   "nbconvert_exporter": "python",
   "pygments_lexer": "ipython3",
   "version": "3.7.12"
  },
  "papermill": {
   "default_parameters": {},
   "duration": 35.943094,
   "end_time": "2023-02-28T17:50:08.436352",
   "environment_variables": {},
   "exception": null,
   "input_path": "__notebook__.ipynb",
   "output_path": "__notebook__.ipynb",
   "parameters": {},
   "start_time": "2023-02-28T17:49:32.493258",
   "version": "2.4.0"
  }
 },
 "nbformat": 4,
 "nbformat_minor": 5
}
